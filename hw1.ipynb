{
 "cells": [
  {
   "cell_type": "code",
   "execution_count": 1,
   "metadata": {
    "collapsed": true
   },
   "outputs": [],
   "source": [
    "import numpy as np\n",
    "import pandas as pd\n",
    "import datetime as dt\n",
    "import matplotlib.pyplot as plt\n",
    "#read data\n",
    "stk_a_df = pd.read_csv(r'E:\\study\\22fall\\hf\\data\\hw1\\ALB.csv')[[\"Date\",'Adj Close']].dropna(axis=0).set_index('Date')\n",
    "stk_a_df.index = pd.to_datetime(stk_a_df.index)\n",
    "stk_b_df = pd.read_csv(r'E:\\study\\22fall\\hf\\data\\hw1\\XOM.csv')[['Date','Adj Close']].dropna(axis=0).set_index('Date')\n",
    "stk_b_df.index = pd.to_datetime(stk_b_df.index)\n",
    "bmk_df = pd.read_csv(r'E:\\study\\22fall\\hf\\data\\hw1\\sp500.csv')[['Date','Adj Close']].dropna(axis=0).set_index('Date')\n",
    "bmk_df.index = pd.to_datetime(bmk_df.index)\n",
    "bmk_df.loc[:,'Adj Close'] = np.float64(bmk_df.loc[:,'Adj Close'])\n",
    "stk_a_df = stk_a_df.reindex(bmk_df.index)\n",
    "stk_b_df = stk_b_df.reindex(bmk_df.index)\n",
    "#return\n",
    "ror_a_df = stk_a_df/stk_a_df.shift(1)-1\n",
    "ror_b_df = stk_b_df/stk_b_df.shift(1)-1\n",
    "ror_bmk_df = bmk_df/bmk_df.shift(1)-1\n",
    "ror_df = pd.concat([ror_a_df,ror_b_df,ror_bmk_df],axis=1)\n",
    "ror_10_treasure_float = 0.03319"
   ]
  },
  {
   "cell_type": "markdown",
   "source": [
    "Chose XOM and ALB to construct portfolio with equal weights.\n",
    "\n",
    "XOM is a leading oil and natural gas producer. Due to Ukraine crisis and high inflation,\n",
    "the world is suffering a energy crisis, especially Europe. Since both the war and inflation is far from ending,\n",
    "I think energy resources, both oil and natural gas , will not return to its normal level very soon, which is a guarantee\n",
    " to XOM's earning at least in the near future.\n",
    "\n",
    "ALB is a Lithium producer with high growth in earning in 2022. Lithium is not only an indispensable material in producing\n",
    " battery in the current booming electric vehicle industry but also key to building energy storage construction which would be popular\n",
    " both to profit through electricity trade and balance price of electricity. Therefore, though Lithium's price is very high right now,\n",
    " I think it will not drop sharply recently.\n",
    "\n",
    "Considering that their PEG is far below 1,around 0.3,0.4 separately, I think both of them are very promising."
   ],
   "metadata": {
    "collapsed": false,
    "pycharm": {
     "name": "#%% md\n"
    }
   }
  },
  {
   "cell_type": "code",
   "execution_count": 2,
   "outputs": [],
   "source": [
    "#allocation\n",
    "def allocate(cash_float:float,weights_array:np.array,price_array:np.array)->tuple: #commission: 0.005/share\n",
    "    cash_weighted_array = cash_float*weights_array\n",
    "    share_array = np.floor(cash_weighted_array/(price_array+0.005))\n",
    "    price_sum_float = np.sum(share_array*price_array+0.005*share_array)\n",
    "    cash_float -= price_sum_float\n",
    "    return cash_float,share_array\n",
    "\n",
    "def sharp(ror_d_array):\n",
    "    ror_y_float = np.exp(np.log(1+ror_d_array).sum() / (ror_d_array.shape[1]/252))-1\n",
    "    std_y_float = np.std(ror_d_array)*np.sqrt(252)\n",
    "    return (ror_y_float-0.03319)/std_y_float"
   ],
   "metadata": {
    "collapsed": false,
    "pycharm": {
     "name": "#%%\n"
    }
   }
  },
  {
   "cell_type": "code",
   "execution_count": 3,
   "outputs": [],
   "source": [
    "# parameters\n",
    "end_str = '2022-09-09'\n",
    "end_loc_int = np.where(stk_a_df.index==end_str)[0][0]"
   ],
   "metadata": {
    "collapsed": false,
    "pycharm": {
     "name": "#%%\n"
    }
   }
  },
  {
   "cell_type": "code",
   "execution_count": 4,
   "outputs": [],
   "source": [
    "#backtest last X trade days\n",
    "period_int = 20\n",
    "beg_loc_int = end_loc_int-period_int\n",
    "cash_init_float = 1000000.0\n",
    "price_array = np.array([stk_a_df.iloc[beg_loc_int,0],stk_b_df.iloc[beg_loc_int,0]])\n",
    "weights_array = np.array([0.5,0.5])"
   ],
   "metadata": {
    "collapsed": false,
    "pycharm": {
     "name": "#%%\n"
    }
   }
  },
  {
   "cell_type": "markdown",
   "source": [
    "I chose to buy as many stocks as possible with given cash and arrange them with equal weight in the portfolio. Equal\n",
    "weights is not only easy but also has no implicit effects on the portfolio like market capitalisation weighted method which\n",
    " naturally possesses momentum. market capitalisation weighted method would make the portfolio performs much more like XOM,\n",
    " whose capitalisation is far bigger than ALB.\n",
    "\n",
    "Mean varaince optimization(mvo) is ideal if data is sufficient, but right now my data source is very limited and a robust\n",
    "  MVO is relatively complicated so I did not employ this method. Also, I don't think MVO would make much difference in a\n",
    "   portfolio made up by only 2 stocks compared with equal weights."
   ],
   "metadata": {
    "collapsed": false,
    "pycharm": {
     "name": "#%% md\n"
    }
   }
  },
  {
   "cell_type": "code",
   "execution_count": 5,
   "outputs": [],
   "source": [
    "cash_float,share_array = allocate(cash_init_float,weights_array,price_array)\n",
    "#cal portfolio mkt val\n",
    "ror_array = ror_df.iloc[beg_loc_int+1:end_loc_int+1,:].values\n",
    "accu_ret_array = np.multiply.accumulate(ror_array+1,axis=0)\n",
    "stk_mkt_val_array = share_array*price_array.reshape(1,2)\n",
    "mkt_val_array = stk_mkt_val_array*accu_ret_array[:,:2]\n",
    "mkt_val_array = np.concatenate((stk_mkt_val_array,mkt_val_array),axis=0)\n",
    "portfolio_daily_ret_array = np.diff(mkt_val_array,1,axis=0)\n",
    "portfolio_daily_ret_cmb_array = portfolio_daily_ret_array.sum(axis=1).reshape(-1,1)\n",
    "partial_sum_portfolio_ret_array = np.add.accumulate(portfolio_daily_ret_array,0)\n",
    "portfolio_mv_array = np.sum(mkt_val_array,axis=1)+cash_float\n",
    "\n",
    "#bmk ret\n",
    "bmk_ret_array = cash_init_float*accu_ret_array[:,2]\n",
    "bmk_ret_array = np.concatenate((np.array(cash_init_float).reshape(1,1),bmk_ret_array.reshape(-1,1)))\n",
    "bmk_daily_ret_array = np.diff(bmk_ret_array,1,axis=0)\n",
    "partial_sum_bmk_ret_array = np.add.accumulate(bmk_daily_ret_array,0)\n",
    "\n",
    "#gen dataset\n",
    "daily_ret_array = np.concatenate((portfolio_daily_ret_cmb_array,bmk_daily_ret_array),axis=1)"
   ],
   "metadata": {
    "collapsed": false,
    "pycharm": {
     "name": "#%%\n"
    }
   }
  },
  {
   "cell_type": "code",
   "execution_count": 6,
   "outputs": [
    {
     "name": "stdout",
     "output_type": "stream",
     "text": [
      "corr: 0.5357607545325154\n",
      "sharp:\n",
      "\tportfolio: 5.419729520093665,\n",
      "\tbenchmark(SP500): -1.8180189063881658\n"
     ]
    }
   ],
   "source": [
    "#metric ouput\n",
    "porfolio_ror_array = np.matmul(weights_array.reshape(1,2),ror_array[:,:2].T)\n",
    "portfolio_sharp_float = sharp(porfolio_ror_array)\n",
    "bmk_sharp_float = sharp(ror_array[:,-1].reshape(1,-1))\n",
    "corrs_float = np.corrcoef(daily_ret_array.T)\n",
    "print(f'corr: {corrs_float[0][1]}')\n",
    "print(f'sharp:\\n\\tportfolio: {portfolio_sharp_float},\\n\\tbenchmark(SP500): {bmk_sharp_float}')"
   ],
   "metadata": {
    "collapsed": false,
    "pycharm": {
     "name": "#%%\n"
    }
   }
  },
  {
   "cell_type": "code",
   "execution_count": 7,
   "outputs": [
    {
     "data": {
      "text/plain": "<Figure size 432x288 with 1 Axes>",
      "image/png": "[encoded data removed]"
     },
     "metadata": {
      "needs_background": "light"
     },
     "output_type": "display_data"
    }
   ],
   "source": [
    "#plotting\n",
    "plt.plot(np.sum(partial_sum_portfolio_ret_array,axis=1),label='portfolio')\n",
    "plt.plot(partial_sum_bmk_ret_array,label='benchmark : SP500')\n",
    "plt.legend()\n",
    "plt.show()"
   ],
   "metadata": {
    "collapsed": false,
    "pycharm": {
     "name": "#%%\n"
    }
   }
  },
  {
   "cell_type": "markdown",
   "source": [
    "In the backtest, the portfolio outperforms market, which is not surprising since I constructed the portfolio basing on historical data.\n",
    "\n",
    "The apparent drawback is that the portfolio's resistance to sudden fall like that on the right side of the graph is low and can be even more risky\n",
    "than benchmark, which is a very difficult problem to solve.\n",
    "\n",
    "Also, metric like sharp ratio is not very useful in such a short period of backtest since annualized average return can be extremely high\n",
    " which lead to high sharp ratio."
   ],
   "metadata": {
    "collapsed": false,
    "pycharm": {
     "name": "#%% md\n"
    }
   }
  }
 ],
 "metadata": {
  "kernelspec": {
   "name": "conda-root-py",
   "language": "python",
   "display_name": "Python [conda env:root]"
  },
  "language_info": {
   "codemirror_mode": {
    "name": "ipython",
    "version": 2
   },
   "file_extension": ".py",
   "mimetype": "text/x-python",
   "name": "python",
   "nbconvert_exporter": "python",
   "pygments_lexer": "ipython2",
   "version": "2.7.6"
  }
 },
 "nbformat": 4,
 "nbformat_minor": 0
}
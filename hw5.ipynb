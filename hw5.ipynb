{
 "cells": [
  {
   "cell_type": "markdown",
   "metadata": {
    "collapsed": true,
    "pycharm": {
     "name": "#%% md\n"
    }
   },
   "source": [
    "# (A) Extension"
   ]
  },
  {
   "cell_type": "markdown",
   "source": [
    "# download data"
   ],
   "metadata": {
    "collapsed": false
   }
  },
  {
   "cell_type": "code",
   "execution_count": null,
   "outputs": [],
   "source": [
    "try:\n",
    "    adj_close_sys_df = pd.read_csv(r'E:\\study\\22fall\\hf\\data\\hw5\\SP500_components.csv',index_col=0)\n",
    "except:\n",
    "    #sp500 components\n",
    "    sp_assets = pd.read_html(\n",
    "            'https://en.wikipedia.org/wiki/List_of_S%26P_500_companies')[0]\n",
    "    sym = sp_assets['Symbol'].str.replace('.','-').tolist()\n",
    "    data = yf.download(tickers=sym,start = '2021-08-09',end = '2022-10-17')\n",
    "    adj_close_sys_df = data.iloc[:,:503]\n",
    "    adj_close_sys_df.columns = [i[1] for i in adj_close_sys_df.columns]\n",
    "    adj_close_sys_df.to_csv(r'E:\\study\\22fall\\hf\\data\\hw5\\SP500_components.csv')\n",
    "\n",
    "#discretionary stk tickers\n",
    "discret_list = ['ALB','XOM','TSLA','CVX']\n",
    "#transform index\n",
    "adj_close_sys_df.index = pd.to_datetime((adj_close_sys_df.index))\n",
    "adj_close_dis_df = adj_close_sys_df.loc[:,discret_list]"
   ],
   "metadata": {
    "collapsed": false,
    "pycharm": {
     "name": "#%%\n"
    }
   }
  },
  {
   "cell_type": "markdown",
   "source": [
    "# construct systematic portfolio"
   ],
   "metadata": {
    "collapsed": false
   }
  },
  {
   "cell_type": "code",
   "execution_count": null,
   "outputs": [],
   "source": [
    "ror_sys_df = adj_close_sys_df/adj_close_sys_df.shift(1)-1\n",
    "ror_sys_df.dropna(axis=0,inplace=True,how = 'all')\n",
    "ror_sys_df.fillna(0,inplace=True)\n",
    "mom_centered_df = momentum_factor(ror_sys_df,5,centered_func=np.median)\n",
    "\n",
    "long_int = 100\n",
    "short_int = 100\n",
    "sys_pfl_weight_df = signal_sizing(mom_centered_df,'signal',long_nums=long_int,short_nums=short_int)\n",
    "sys_pos = position(2e6,fix_notion_bool=True)\n",
    "sys_pos.order_execute(weights_df=sys_pfl_weight_df.iloc[[-4*5-1],:],price_df=adj_close_sys_df.iloc[[-4*5-1],:],brokerage_fee_rate_float=0.0001)\n",
    "sys_pos.order_execute(weights_df=sys_pfl_weight_df.iloc[[-3*5-1],:],price_df=adj_close_sys_df.iloc[[-3*5-1],:],brokerage_fee_rate_float=0.0001)\n",
    "sys_pos.order_execute(weights_df=sys_pfl_weight_df.iloc[[-2*5-1],:],price_df=adj_close_sys_df.iloc[[-2*5-1],:],brokerage_fee_rate_float=0.0001)\n",
    "sys_pos.order_execute(weights_df=sys_pfl_weight_df.iloc[[-1*5-1],:],price_df=adj_close_sys_df.iloc[[-1*5-1],:],brokerage_fee_rate_float=0.0001)\n",
    "sys_pos.order_execute(weights_df=sys_pfl_weight_df.iloc[[0*5-1],:],price_df=adj_close_sys_df.iloc[[0*5-1],:],brokerage_fee_rate_float=0.0001)\n",
    "sys_asset_val_df = sys_pos.daily_asset_val(price_df=adj_close_sys_df,all_price_bool=True)\n",
    "sys_daily_ret_df = sys_asset_val_df - sys_asset_val_df.shift(1)\n",
    "sys_daily_ret_df.dropna(axis=0,inplace=True)\n",
    "sys_asset_val_df.plot()\n",
    "plt.title('systemaic portfolio daily asset val')\n",
    "sys_daily_ret_df.plot()\n",
    "plt.title('systematic portfolio daily return')\n",
    "plt.show()"
   ],
   "metadata": {
    "collapsed": false,
    "pycharm": {
     "name": "#%%\n"
    }
   }
  },
  {
   "cell_type": "markdown",
   "source": [
    "# construct discretionary portfolio"
   ],
   "metadata": {
    "collapsed": false
   }
  },
  {
   "cell_type": "code",
   "execution_count": null,
   "outputs": [],
   "source": [
    "ror_dis_df = adj_close_dis_df/adj_close_dis_df.shift(1)-1\n",
    "ror_dis_df.dropna(axis=0,inplace=True,how = 'all')\n",
    "ror_dis_df.fillna(0,inplace=True)\n",
    "dis_pfl_weight_df = pd.DataFrame(data = np.array([0.5,0.5,0.5*(w11+w21),0.5*(w12+w22)]).reshape(1,-1),columns = discret_list)\n",
    "dis_pfl_weight_df.index = [ror_dis_df.index[0]]\n",
    "dis_pfl_weight_df = dis_pfl_weight_df.reindex(ror_dis_df.index).ffill()\n",
    "dis_pos = position(2e6,fix_notion_bool=True)\n",
    "dis_pos.order_execute(weights_df=dis_pfl_weight_df.iloc[[-4*5-1],:],price_df=adj_close_dis_df.iloc[[-4*5-1],:],brokerage_fee_rate_float=0.0001)\n",
    "dis_pos.order_execute(weights_df=dis_pfl_weight_df.iloc[[-3*5-1],:],price_df=adj_close_dis_df.iloc[[-3*5-1],:],brokerage_fee_rate_float=0.0001)\n",
    "dis_pos.order_execute(weights_df=dis_pfl_weight_df.iloc[[-2*5-1],:],price_df=adj_close_dis_df.iloc[[-2*5-1],:],brokerage_fee_rate_float=0.0001)\n",
    "dis_pos.order_execute(weights_df=dis_pfl_weight_df.iloc[[-1*5-1],:],price_df=adj_close_dis_df.iloc[[-1*5-1],:],brokerage_fee_rate_float=0.0001)\n",
    "dis_pos.order_execute(weights_df=dis_pfl_weight_df.iloc[[0*5-1],:],price_df=adj_close_dis_df.iloc[[0*5-1],:],brokerage_fee_rate_float=0.0001)\n",
    "dis_asset_val_df = dis_pos.daily_asset_val(price_df=adj_close_dis_df,all_price_bool=True)\n",
    "dis_daily_ret_df = dis_asset_val_df - dis_asset_val_df.shift(1)\n",
    "dis_daily_ret_df.dropna(axis=0,inplace=True)\n",
    "dis_asset_val_df.plot()\n",
    "plt.title('discretionary portfolio daily asset val')\n",
    "dis_daily_ret_df.plot()\n",
    "plt.title('discretionary portfolio daily return')\n",
    "plt.show()"
   ],
   "metadata": {
    "collapsed": false,
    "pycharm": {
     "name": "#%%\n"
    }
   }
  },
  {
   "cell_type": "markdown",
   "source": [
    "#For systematic portflio,\n",
    "# (1) We should consider alter the signal like change the period of data for momentum like switch\n",
    "# weekly return to monthly or even half-year return, which may show a better performance.\n",
    "# (2) Besides momentum, maybe we should consider reversal effects in stocks\n",
    "# (3) The market is suffering from high inflation and corresponding Fed's interest rate policy. Therefore, we should\n",
    "# look back in history when high inflation and raising interests rate operation happens to see how signals performed\n",
    "# back then. History may give us some insights into how to improve the strategy.\n",
    "#For discretionary portflio,\n",
    "# (1) Discretionary portfolio's max_drawdown and VaR is bigger than systematic portfolio which shows that it is not well\n",
    "# hedged compared with systematic portfolio.We used market beta and momentum beta to hedge the discretionary portfolio.\n",
    "# In order to improve hedging performance, we may consider other risk factor like size to hedge or alter hedge ratio\n",
    "# dynamically on a weekly basis.\n",
    "# (2)"
   ],
   "metadata": {
    "collapsed": false
   }
  },
  {
   "cell_type": "markdown",
   "source": [
    "# (B) Selection"
   ],
   "metadata": {
    "collapsed": false
   }
  },
  {
   "cell_type": "code",
   "execution_count": null,
   "outputs": [],
   "source": [
    "# download SPY\n",
    "try:\n",
    "    spy_close_df = pd.read_csv(r'E:\\study\\22fall\\hf\\data\\hw5\\spy_close.csv',index_col=0)\n",
    "except:\n",
    "    data = yf.download(tickers='SPY',start = '2021-08-09',end = '2022-10-30')\n",
    "    spy_close_df = data.iloc[:,-2]\n",
    "    spy_close_df.to_csv(r'E:\\study\\22fall\\hf\\data\\hw5\\spy_close.csv')\n",
    "\n",
    "spy_ror_df = spy_close_df/spy_close_df.shift(1)-1\n",
    "spy_ror_df.index = pd.to_datetime(spy_ror_df.index)\n",
    "spy_ror_df.columns = ['SPY']\n",
    "spy_ror_df.dropna(axis=0,inplace=True)\n",
    "\n",
    "sys_ror_df = sys_asset_val_df/sys_asset_val_df.shift(1)-1\n",
    "sys_ror_df.dropna(axis=0,inplace=True)\n",
    "dis_ror_df = dis_asset_val_df/dis_asset_val_df.shift(1)-1\n",
    "dis_ror_df.dropna(axis=0,inplace=True)\n",
    "spy_ror_df = spy_ror_df.reindex(sys_ror_df.index)\n",
    "# cal\n",
    "sys_IR_float = IR(sys_ror_df.values,spy_ror_df.values)\n",
    "sys_beta_float = cal_beta(sys_ror_df.values,spy_ror_df.values)\n",
    "sys_sharp_float = sharp(sys_ror_df.values)\n",
    "sys_maxdrawdown_float = max_drawdown(sys_asset_val_df)\n",
    "sys_VaR_float = VaR(0.75,sys_daily_ret_df)\n",
    "sys_ETL_float = ETL(0.75,sys_daily_ret_df)\n",
    "sys_annual_ror_float = annualized_ror(sys_ror_df.values.copy())\n",
    "dis_IR_float = IR(dis_ror_df.values,spy_ror_df.values)\n",
    "dis_beta_float = cal_beta(dis_ror_df.values,spy_ror_df.values)\n",
    "dis_sharp_float = sharp(dis_ror_df.values)\n",
    "dis_maxdrawdown_float = max_drawdown(dis_asset_val_df)\n",
    "dis_VaR_float = VaR(0.75,dis_daily_ret_df)\n",
    "dis_ETL_float = ETL(0.75,dis_daily_ret_df)\n",
    "dis_annual_ror_float = annualized_ror(dis_ror_df.values.copy())\n",
    "stats_df = pd.DataFrame(data = [[sys_IR_float,sys_beta_float,sys_sharp_float,sys_maxdrawdown_float,sys_VaR_float,sys_ETL_float,sys_annual_ror_float],\n",
    "                                [dis_IR_float,dis_beta_float,dis_sharp_float,dis_maxdrawdown_float,dis_VaR_float,dis_ETL_float,dis_annual_ror_float]])\n",
    "stats_df = stats_df.T\n",
    "stats_df.index = ['Annualized IR','Beta','Annualized sharp','max drawdown','VaR','ETL','AnnualizedRor']\n",
    "stats_df.columns = ['Systematic','Discretionary']\n",
    "print(stats_df)"
   ],
   "metadata": {
    "collapsed": false,
    "pycharm": {
     "name": "#%%\n"
    }
   }
  },
  {
   "cell_type": "markdown",
   "source": [
    "#Apparently, from IR and sharp, Discretionary portfolio's performance is much better than Systematic portfolio right now.\n",
    "# However, systematic portfolio's risk performance is better than discretionary portfolio in max_drawdown,VaR and ETL.\n",
    "# Though systematic portfolio's sharp is negative right now, if we extend its backtest period it may show a better\n",
    "# performance considering its risk performance.\n",
    "# In the end, I would still choose discretionary portfolio since I don't think weekly momentum signal is good signal right now."
   ],
   "metadata": {
    "collapsed": false
   }
  },
  {
   "cell_type": "markdown",
   "source": [],
   "metadata": {
    "collapsed": false
   }
  },
  {
   "cell_type": "code",
   "execution_count": null,
   "outputs": [],
   "source": [
    "# I highly recommend we trade discretionary portfolio. Though it has flaws in risk performance, I still believe that oil\n",
    "# and lithium will be the hotest inhvestment sector under current situation, both economically and politically. On the\n",
    "# other side, i think its relative high risk is due to inappropriate hedging choice, which can be solved or at least eased\n",
    "# if we solutions as I mentioned in (A)"
   ],
   "metadata": {
    "collapsed": false,
    "pycharm": {
     "name": "#%% (C)\n"
    }
   }
  },
  {
   "cell_type": "markdown",
   "source": [
    "# (D)"
   ],
   "metadata": {
    "collapsed": false
   }
  },
  {
   "cell_type": "code",
   "execution_count": null,
   "outputs": [],
   "source": [
    "strat_corr_float = sys_ror_df.corrwith(dis_ror_df)\n",
    "print(f'correlationship between these two strategies: {strat_corr_float}')\n",
    "#first trial: use quais-Netwon optimization to maximize portfolio's IR\n",
    "\n",
    "#objective function\n",
    "def obj_IR(w0_float):\n",
    "    sys_ror_array = sys_ror_df.values.reshape(-1,1)\n",
    "    dis_ror_array = dis_ror_df.values.reshape(-1,1)\n",
    "    pfl_ror_array = w0_float*sys_ror_array+(1-w0_float)*dis_ror_array\n",
    "    pfl_std_float = np.std(pfl_ror_array)*np.sqrt(252)\n",
    "    VaR_float = VaR(0.75,pd.DataFrame(data = pfl_ror_array),period_int=252)\n",
    "    IR_float = IR(pfl_ror_array,spy_ror_df.values)\n",
    "    IR_float -= pfl_std_float #punish volatlity\n",
    "    IR_float += 4*VaR_float #punish VaR * weight\n",
    "    return -IR_float\n",
    "\n",
    "#BFGS optimize with w0+w1 =1, wi>0 constrains\n",
    "res = minimize(obj_IR,[0.5],bounds=[[0,1]])\n",
    "w0 = res.x[0]\n",
    "pfl_ror_df = w0*sys_ror_df+(1-w0)*dis_ror_df\n",
    "pfl_asset_val_df = w0*sys_asset_val_df+(1-w0)*dis_asset_val_df\n",
    "pfl_daily_ret_df = (pfl_asset_val_df-pfl_asset_val_df.shift(1)).dropna(axis=0)\n",
    "#cal statsitics\n",
    "pfl_IR_float = IR(pfl_ror_df.values,spy_ror_df.values)\n",
    "pfl_beta_float = cal_beta(pfl_ror_df.values,spy_ror_df.values)\n",
    "pfl_sharp_float = sharp(pfl_ror_df.values)\n",
    "pfl_maxdrawdown_float = max_drawdown(pfl_asset_val_df)\n",
    "pfl_VaR_float = VaR(0.75,pfl_daily_ret_df)\n",
    "pfl_ETL_float = ETL(0.75,pfl_daily_ret_df)\n",
    "pfl_annual_ror_float = annualized_ror(pfl_ror_df.values.copy())\n",
    "stats_df.loc[:,'opt pfl'] = [pfl_IR_float,pfl_beta_float,pfl_sharp_float,pfl_maxdrawdown_float,pfl_VaR_float,pfl_ETL_float,pfl_annual_ror_float]\n",
    "print(stats_df)\n",
    "pass\n",
    "\n"
   ],
   "metadata": {
    "collapsed": false,
    "pycharm": {
     "name": "#%% cal corr between the two strategies\n"
    }
   }
  }
 ],
 "metadata": {
  "kernelspec": {
   "display_name": "Python 3",
   "language": "python",
   "name": "python3"
  },
  "language_info": {
   "codemirror_mode": {
    "name": "ipython",
    "version": 2
   },
   "file_extension": ".py",
   "mimetype": "text/x-python",
   "name": "python",
   "nbconvert_exporter": "python",
   "pygments_lexer": "ipython2",
   "version": "2.7.6"
  },
  "pycharm": {
   "stem_cell": {
    "cell_type": "raw",
    "source": [
     "import numpy as np\n",
     "import pandas as pd\n",
     "from hw2 import *\n",
     "from tool_func import *\n",
     "import yfinance as yf\n",
     "from scipy.optimize import minimize\n",
     "# import weights of discretionary and systematic portfolio from previous homework\n"
    ],
    "metadata": {
     "collapsed": false
    }
   }
  }
 },
 "nbformat": 4,
 "nbformat_minor": 0
}
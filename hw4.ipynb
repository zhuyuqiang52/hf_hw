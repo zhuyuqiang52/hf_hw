{
 "cells": [
  {
   "cell_type": "code",
   "execution_count": 1,
   "metadata": {
    "collapsed": true
   },
   "outputs": [],
   "source": [
    "from hw3 import *"
   ]
  },
  {
   "cell_type": "markdown",
   "source": [
    "From HW3 inherited the weekly portfolio weights"
   ],
   "metadata": {
    "collapsed": false,
    "pycharm": {
     "name": "#%% md\n"
    }
   }
  },
  {
   "cell_type": "code",
   "execution_count": 2,
   "outputs": [],
   "source": [
    "import pandas as pd\n",
    "import yfinance as yf"
   ],
   "metadata": {
    "collapsed": false,
    "pycharm": {
     "name": "#%%\n"
    }
   }
  },
  {
   "cell_type": "markdown",
   "source": [
    "# Functions' definitions"
   ],
   "metadata": {
    "collapsed": false,
    "pycharm": {
     "name": "#%% md\n"
    }
   }
  },
  {
   "cell_type": "code",
   "execution_count": 3,
   "outputs": [],
   "source": [
    "def cal_beta(stk_ror_array,bmk_ror_array)->float:\n",
    "    X_array = sm.add_constant((bmk_ror_array - ror_10_treasure_float).reshape(-1, 1))\n",
    "    y_array = (stk_ror_array - ror_10_treasure_float).reshape(-1, 1)\n",
    "    model = sm.OLS(y_array, X_array)\n",
    "    result = model.fit()\n",
    "    beta_float = result.params[1]\n",
    "    return beta_float\n",
    "\n",
    "def IR(pfl_r_array:np.array,bmk_r_array:np.array)->float:\n",
    "    std_float = np.std(pfl_r_array - bmk_r_array)\n",
    "    IR_float = np.mean(pfl_r_array-bmk_r_array)/std_float\n",
    "    return IR_float\n",
    "\n",
    "def sharp(ror_d_array):\n",
    "    ror_d_array = ror_d_array.reshape(-1,1)\n",
    "    ror_y_float = np.exp(np.log(1+ror_d_array).sum() / (len(ror_d_array)/252))-1\n",
    "    std_y_float = np.std(ror_d_array)*np.sqrt(252)\n",
    "    return (ror_y_float-0.03319)/std_y_float\n",
    "\n",
    "def max_drawdown(pfl_ret_df):\n",
    "    loc_end_int = np.argmax((np.maximum.accumulate(pfl_ret_df)-pfl_ret_df)/np.maximum.accumulate(pfl_ret_df))\n",
    "    loc_beg_int = np.argmax(pfl_ret_df.iloc[:loc_end_int,0])\n",
    "    max_drawdown_float = pfl_ret_df.iloc[loc_beg_int,0]-pfl_ret_df.iloc[loc_end_int,0]\n",
    "    return max_drawdown_float\n",
    "\n",
    "def VaR_std_m(confidence_level_float,asset_val_df,period_int = 1):\n",
    "    daily_ror_df = asset_val_df/asset_val_df.shift(1)-1\n",
    "    daily_ror_df.fillna(0,inplace=True)\n",
    "    std_float = daily_ror_df.std(axis=0)\n",
    "    std_y_float = std_float*np.sqrt(252)\n",
    "    z_quantile_float = norm.ppf(confidence_level_float,loc = 0, scale = 1)\n",
    "    var_float = (std_y_float*z_quantile_float*np.sqrt(period_int/252))*asset_val_df.iloc[0,0]\n",
    "    return var_float\n",
    "\n",
    "def VaR_series(confidence_level_float,daily_ret_df,period_int=1):\n",
    "    confidence_level_float *=100\n",
    "    daily_ret_df = daily_ret_df\n",
    "    Var_float = np.percentile(daily_ret_df.values,100-confidence_level_float,interpolation='midpoint')*period_int\n",
    "    return Var_float\n",
    "\n",
    "def VaR(confidence_level_float,daily_ret_df,period_int = 1,method_str='series'):\n",
    "    if method_str=='series':\n",
    "        return VaR_series(confidence_level_float,daily_ret_df,period_int)\n",
    "    elif method_str=='std':\n",
    "        return VaR_std_m(confidence_level_float, daily_ret_df,period_int)\n",
    "\n",
    "def ETL(confidence_level_float,daily_ret_df,period_int = 1,method_str='series'):\n",
    "    VaR_float = VaR(confidence_level_float,daily_ret_df,period_int,method_str)\n",
    "    etl_ret_df = daily_ret_df[daily_ret_df<=VaR_float]\n",
    "    etl_float = etl_ret_df.mean().values[0]\n",
    "    return etl_float"
   ],
   "metadata": {
    "collapsed": false,
    "pycharm": {
     "name": "#%%\n"
    }
   }
  },
  {
   "cell_type": "code",
   "execution_count": 4,
   "outputs": [],
   "source": [
    "# Download SPY data from Yahoo Finance\n",
    "try:\n",
    "    spy_close_df = pd.read_csv(r'E:\\study\\22fall\\hf\\data\\hw4\\spy_close.csv',index_col=0)\n",
    "except:\n",
    "    data = yf.download(tickers='SPY',start = '2021-08-09',end = '2022-09-30')\n",
    "    spy_close_df = data.iloc[:,-2]\n",
    "    spy_close_df.to_csv(r'E:\\study\\22fall\\hf\\data\\hw4\\spy_close.csv')\n",
    "\n",
    "spy_ror_df = spy_close_df/spy_close_df.shift(1)-1\n",
    "spy_ror_df.index = pd.to_datetime(spy_ror_df.index)\n",
    "spy_ror_df.columns = ['SPY']"
   ],
   "metadata": {
    "collapsed": false,
    "pycharm": {
     "name": "#%%\n"
    }
   }
  },
  {
   "cell_type": "markdown",
   "source": [
    "# (A)\n",
    "# Calculation of Statistic"
   ],
   "metadata": {
    "collapsed": false
   }
  },
  {
   "cell_type": "code",
   "execution_count": 5,
   "outputs": [
    {
     "data": {
      "text/plain": "<Figure size 432x288 with 1 Axes>",
      "image/png": "[encoded data removed]"
     },
     "metadata": {
      "needs_background": "light"
     },
     "output_type": "display_data"
    },
    {
     "name": "stdout",
     "output_type": "stream",
     "text": [
      "IR:0.0786150186187113,\n",
      "Correlation Coefficient: 0.06389977933188826,\n",
      "Beta: 0.07126328422663239,\n",
      "Sharp: -2.6410038984703363\n"
     ]
    }
   ],
   "source": [
    "asset_val_df = pos.daily_asset_val(dat_df,True)\n",
    "pfl_ret_df = asset_val_df-asset_val_df.shift(1)\n",
    "pfl_ret_df.dropna(axis=0,inplace=True)\n",
    "\n",
    "#daily return plotting\n",
    "pfl_ret_df.plot()\n",
    "plt.title('Daily Return')\n",
    "plt.show()\n",
    "\n",
    "pfl_ror_df = asset_val_df/asset_val_df.shift(1)-1\n",
    "pfl_ror_df.dropna(axis=0,inplace=True)\n",
    "data_df = pd.merge(spy_ror_df,pfl_ror_df,left_index=True,right_index=True).fillna(0)\n",
    "#statistics\n",
    "IR_series = data_df.iloc[:,1:].apply(axis=0,func = IR,args = (data_df.iloc[:,0],))\n",
    "corr_series = data_df.iloc[:,1:].corrwith(data_df.iloc[:,0],axis=0)\n",
    "beta_float = cal_beta(data_df.iloc[:,0].values,data_df.iloc[:,1].values)\n",
    "sharp_float = sharp(data_df.iloc[:,1].values)\n",
    "print(f'IR:{IR_series[0]},\\nCorrelation Coefficient: {corr_series[0]},\\nBeta: {beta_float},\\nSharp: {sharp_float}')"
   ],
   "metadata": {
    "collapsed": false,
    "pycharm": {
     "name": "#%%\n"
    }
   }
  },
  {
   "cell_type": "markdown",
   "source": [
    "### Assesement:\n",
    "1. The strategy's performance is far from good from IR's perspective, which shows that it is too risky for its return.\n",
    "2. Its correlation with S&P500 is very low, which is welcomed. Market ${\\beta}$ tells the same story.\n",
    "Under current circumstances,where S&P500 has dropped 8%\n",
    "during backtest period and there is no sign for recovery, it is better for a strategy to be less correlated to the market.\n",
    "3. The Sharp ratio of the strategy is also very terrible even with negative sign, showing that weekly momentum is not\n",
    "effective recently.\n"
   ],
   "metadata": {
    "collapsed": false
   }
  },
  {
   "cell_type": "markdown",
   "source": [
    "# (B) VaR and ETL"
   ],
   "metadata": {
    "collapsed": false
   }
  },
  {
   "cell_type": "code",
   "execution_count": 6,
   "outputs": [
    {
     "name": "stdout",
     "output_type": "stream",
     "text": [
      "VaR (historical method): -28544.066656078678,\n",
      " ETL (historical method): -34170.0520240303,\n",
      " Max Drawdown of Return: 114218.61009649513\n"
     ]
    }
   ],
   "source": [
    "VaR_float = VaR(0.75,pfl_ret_df,method_str='series')\n",
    "ETL_float = ETL(0.75,pfl_ret_df,method_str='series')\n",
    "max_drawdown_float = max_drawdown(asset_val_df)\n",
    "print(f'VaR (historical method): {VaR_float},\\n ETL (historical method): {ETL_float},\\n Max Drawdown of Return: {max_drawdown_float}')"
   ],
   "metadata": {
    "collapsed": false,
    "pycharm": {
     "name": "#%%\n"
    }
   }
  },
  {
   "cell_type": "markdown",
   "source": [
    "# (C) Operations\n",
    "### Difficulties in backtest:\n",
    "1.The biggest challenge is about short position. Short sales can use leverage, which will leads to short sales proceeds and\n",
    " its interests, margin ratio and possibility to maintain margin ration by adding more money to margin account. Also, the\n",
    " assets' value of short position is not as straightforward as long position.\n",
    " 2.transaction fee/rate settings are very tricky and maybe different from the settings in backtest.\n",
    " Actual trading results may be completely different from that of backtest.\n",
    "### Operational risk:\n",
    "1. Employing short sales may lead to actual margin ratio lower than maintenance margin and a margin call. Then, we have to\n",
    " put up more money or change short position in time to avoid additional possible loss or restrictions on trading.\n",
    "2. Be careful of brokerage fee and stock loan fee, which can be so expensive that all profits generated may be wiped out\n",
    "  and even end up in a loss. Considering stock loan fee, short position should be altered to lower transaction cost.\n",
    "3. Beware of liquidity of short sales stocks in case of being recalled.\n",
    "4. up-tick rule should be kept in mind when constructing short position.\n",
    "5. Some misunderstandings of PNL may arise from short position."
   ],
   "metadata": {
    "collapsed": false,
    "pycharm": {
     "name": "#%% md\n"
    }
   }
  },
  {
   "cell_type": "markdown",
   "source": [
    "# (D) Future\n",
    "1. The strategy is very basic and known to all. However, it still works during some period. Therefore, we should not\n",
    "abandon the strategy at all but try to find correct timing for employing this strategy.\n",
    "2. Despite its poor return and volatility, its low correlation with market is preferable.\n",
    "3. Being one of the most basic signal, though extremely simple, means its capacity is relatively high when it is the right time.\n",
    "4. Considering a momentum made up by longer periods' return, like 120,250 days, which maybe more reliable."
   ],
   "metadata": {
    "collapsed": false,
    "pycharm": {
     "name": "#%% md\n"
    }
   }
  },
  {
   "cell_type": "markdown",
   "source": [
    "# (E) Environment\n",
    "1. Under current circumstances where there seems to be no recovery in the short term, the optimal strategy first is to\n",
    "get ourselves rid of markets' effects. Specifically, it means an ideal strategy should have zero or low correlation with market.\n",
    "2. Momentum is the most basic and famous signal with well explained economic intuitions in all markets with great potential even today.\n",
    "With careful timing and regime selection, it still has chances to shine."
   ],
   "metadata": {
    "collapsed": false,
    "pycharm": {
     "name": "#%% md\n"
    }
   }
  }
 ],
 "metadata": {
  "kernelspec": {
   "display_name": "Python 3",
   "language": "python",
   "name": "python3"
  },
  "language_info": {
   "codemirror_mode": {
    "name": "ipython",
    "version": 2
   },
   "file_extension": ".py",
   "mimetype": "text/x-python",
   "name": "python",
   "nbconvert_exporter": "python",
   "pygments_lexer": "ipython2",
   "version": "2.7.6"
  }
 },
 "nbformat": 4,
 "nbformat_minor": 0
}
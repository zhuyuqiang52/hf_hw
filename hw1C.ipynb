{
 "cells": [
  {
   "cell_type": "code",
   "execution_count": 1,
   "metadata": {
    "collapsed": true
   },
   "outputs": [
    {
     "name": "stdout",
     "output_type": "stream",
     "text": [
      "pass\n"
     ]
    }
   ],
   "source": [
    "import numpy as np\n",
    "import pandas as pd\n",
    "import matplotlib.pyplot as plt\n",
    "import yfinance as yf\n",
    "import statsmodels.api as sm\n",
    "try:\n",
    "    adj_close_df = pd.read_csv(r'E:\\study\\22fall\\hf\\data\\hw1\\SP500_components.csv',index_col=0)\n",
    "except:\n",
    "    #sp500 components\n",
    "    sp_assets = pd.read_html(\n",
    "            'https://en.wikipedia.org/wiki/List_of_S%26P_500_companies')[0]\n",
    "    sym = sp_assets['Symbol'].str.replace('.','-').tolist()\n",
    "    data = yf.download(tickers=sym,start = '2021-08-09',end = '2022-09-11')\n",
    "    adj_close_df = data.iloc[:,:503]\n",
    "    adj_close_df.columns = [i[1] for i in adj_close_df.columns]\n",
    "    adj_close_df.to_csv(r'E:\\study\\22fall\\hf\\data\\hw1\\SP500_components.csv')\n",
    "adj_ror_df = adj_close_df/adj_close_df.shift(1)-1\n",
    "ror_10_treasure_float = 0.03319\n",
    "print('pass')"
   ]
  },
  {
   "cell_type": "code",
   "execution_count": 3,
   "outputs": [],
   "source": [
    "#functions\n",
    "#allocation\n",
    "def allocate(cash_float:float,weights_array:np.array,price_array:np.array)->tuple: #commission: 0.005/share\n",
    "    cash_weighted_array = cash_float*weights_array\n",
    "    share_array = np.floor(cash_weighted_array/(price_array+0.005))\n",
    "    price_sum_float = np.sum(share_array*price_array+0.005*share_array)\n",
    "    cash_float -= price_sum_float\n",
    "    return cash_float,share_array\n",
    "\n",
    "def momentum_factor(ror_df,window_int):\n",
    "    ror_df = np.log(ror_df+1)\n",
    "    momentum_factor_df = np.exp(ror_df.rolling(window_int,axis=0).sum())-1\n",
    "    return momentum_factor_df\n",
    "\n",
    "def sharp(ror_d_array):\n",
    "    ror_y_float = np.exp(np.log(1+ror_d_array).sum() / (ror_d_array.shape[1]/252))-1\n",
    "    std_y_float = np.std(ror_d_array)*np.sqrt(252)\n",
    "    return (ror_y_float-0.03319)/std_y_float\n",
    "\n",
    "def IC_analysis(factor_df,ror_df,method_str = 'pearson'):\n",
    "    factor_df.dropna(axis=0,inplace=True,how='all')\n",
    "    #ror multiindex & shift -1\n",
    "    ror_shift_df = ror_df.shift(-1)\n",
    "    ror_shift_df = ror_shift_df.reindex(factor_df.index,axis = 0)\n",
    "    corrs_df = ror_shift_df.corrwith(factor_df,axis = 1,method = method_str)\n",
    "    corrs_df.dropna(axis=0,inplace=True,how='all')\n",
    "    corrs_array = corrs_df.values\n",
    "    IC_mean_float = np.mean(corrs_array)\n",
    "    IC_std_float = np.std(corrs_array)\n",
    "    IC_IR_float = IC_mean_float/IC_std_float\n",
    "    IC_pos_rate_float = len(corrs_array[corrs_array>0])/len(corrs_array)\n",
    "    print(f'\\nIC Analysis\\nIC_mean: {IC_mean_float},\\nIC_std: {IC_std_float},\\nIC_IR: {IC_IR_float},\\n(IC>0)%: {IC_pos_rate_float}')\n",
    "\n",
    "def factor_ret(factor_df,ror_df):\n",
    "    factor_df.dropna(axis=0, inplace=True, how='all')\n",
    "    #20 days accumulate ror\n",
    "    ror_accu_df = np.log(ror_df+1)\n",
    "    ror_accu_df = np.exp(ror_accu_df.rolling(20,axis=0).sum())-1\n",
    "    ror_shift_df = ror_accu_df.shift(-20).dropna(axis=0)\n",
    "    idx_intersect_list = np.intersect1d(factor_df.index.tolist(),ror_shift_df.index.tolist()).tolist()\n",
    "    ror_shift_df = ror_shift_df.reindex(idx_intersect_list, axis=0)\n",
    "    factor_df = factor_df.reindex(idx_intersect_list,axis=0)\n",
    "    #reg for factor ret\n",
    "    factor_ret_list = []\n",
    "    t_list = []\n",
    "    for i in range(factor_df.shape[0]):\n",
    "        X_array = factor_df.iloc[i,:].values\n",
    "        y_array = ror_shift_df.iloc[i,:].values\n",
    "        # nan detect\n",
    "        nan_locX_array = np.where(np.isnan(X_array)==True)\n",
    "        nan_locy_array = np.where(np.isnan(y_array)==True)\n",
    "        nan_loc_array = np.union1d(nan_locy_array,nan_locX_array)\n",
    "        X_array = np.delete(X_array,nan_loc_array)\n",
    "        y_array = np.delete(y_array,nan_loc_array)\n",
    "        #add constant\n",
    "        X_array = sm.add_constant(X_array)\n",
    "        model = sm.OLS(y_array,X_array)\n",
    "        result = model.fit()\n",
    "        t_val_float = result.tvalues[1]\n",
    "        coef_float = result.params[1]\n",
    "        factor_ret_list.append(coef_float)\n",
    "        t_list.append(t_val_float)\n",
    "    t_abs_array = np.abs(t_list)\n",
    "    t_abs_mean_float = np.mean(t_abs_array)\n",
    "    t_abs_significant_float = len(t_abs_array[t_abs_array>2])/len(t_abs_array)\n",
    "    t_mean_float = np.mean(t_list)\n",
    "    ret_mean_float = np.mean(factor_ret_list)\n",
    "    print(f'\\nRegression Analysis\\nabs tvalue mean: {t_abs_mean_float}\\nsignificance of t value( abs>2): {t_abs_significant_float}'\n",
    "          f'\\nt value mean: {t_mean_float}\\nret mean: {ret_mean_float}')\n"
   ],
   "metadata": {
    "collapsed": false,
    "pycharm": {
     "name": "#%%\n"
    }
   }
  },
  {
   "cell_type": "code",
   "execution_count": 4,
   "outputs": [
    {
     "name": "stdout",
     "output_type": "stream",
     "text": [
      "\n",
      "IC Analysis\n",
      "IC_mean: 0.009169094502031846,\n",
      "IC_std: 0.3273080298591195,\n",
      "IC_IR: 0.028013655839664014,\n",
      "(IC>0)%: 0.5454545454545454\n",
      "\n",
      "Regression Analysis\n",
      "abs tvalue mean: 5.064160336535453\n",
      "significance of t value( abs>2): 0.8222222222222222\n",
      "t value mean: 0.22853740445418344\n",
      "ret mean: 0.010487851159349075\n"
     ]
    }
   ],
   "source": [
    "momentum_df = momentum_factor(adj_ror_df,120)\n",
    "IC_analysis(momentum_df,adj_ror_df,'spearman')\n",
    "factor_ret(momentum_df,adj_ror_df)"
   ],
   "metadata": {
    "collapsed": false,
    "pycharm": {
     "name": "#%%\n"
    }
   }
  },
  {
   "cell_type": "markdown",
   "source": [
    "Through IC and return analysis, we can see that that momentum factor constructed by 120 trade days' accumulate return\n",
    "is effective right now, so I drop stocks with incomplete data and select 5 stocks with biggest momentum value to constru\n",
    "ct the portfolio with equal weights.\n"
   ],
   "metadata": {
    "collapsed": false
   }
  },
  {
   "cell_type": "code",
   "execution_count": 4,
   "outputs": [],
   "source": [
    "#portfolio construction\n",
    "# choose 5 stock with top X factor value with equal weight\n",
    "nums_int = 5\n",
    "cash_init_float = 1e8\n",
    "end_dt_str = '2022-09-08'\n",
    "bkt_period_int = 252\n",
    "end_loc_int = np.where(adj_close_df.index==end_dt_str)[0][0]\n",
    "beg_loc_int = end_loc_int-bkt_period_int\n",
    "\n",
    "symbols_list = momentum_df.iloc[-1,:].sort_values().tail(nums_int+1).index.tolist()[:-1] #last one lack data\n",
    "weights_array = np.array([1/nums_int]*nums_int)\n",
    "price_array = adj_close_df.iloc[beg_loc_int,:][symbols_list].values\n",
    "cash_float,share_array = allocate(cash_init_float,weights_array,price_array)"
   ],
   "metadata": {
    "collapsed": false,
    "pycharm": {
     "name": "#%%\n"
    }
   }
  },
  {
   "cell_type": "code",
   "execution_count": 5,
   "outputs": [],
   "source": [
    "# cal portfolio mkt val\n",
    "ror_df = adj_ror_df.iloc[beg_loc_int + 1:end_loc_int+1, :][symbols_list]\n",
    "ror_array = ror_df.values\n",
    "accu_ret_array = np.multiply.accumulate(ror_array + 1, axis=0)\n",
    "stk_mkt_val_array = share_array.reshape(1,-1) * price_array.reshape(1,-1)\n",
    "mkt_val_array = stk_mkt_val_array * accu_ret_array\n",
    "mkt_val_array = np.concatenate((stk_mkt_val_array, mkt_val_array), axis=0)\n",
    "portfolio_d_ret_array = np.diff(mkt_val_array, 1, axis=0)\n",
    "portfolio_d_ret_cmb_array = portfolio_d_ret_array.sum(axis=1).reshape(-1, 1)\n",
    "partial_sum_portfolio_ret_array = np.add.accumulate(portfolio_d_ret_array, 0)\n",
    "portfolio_mv_array = np.sum(mkt_val_array, axis=1) + cash_float"
   ],
   "metadata": {
    "collapsed": false,
    "pycharm": {
     "name": "#%%\n"
    }
   }
  },
  {
   "cell_type": "code",
   "execution_count": 6,
   "outputs": [],
   "source": [
    "# bmk ret\n",
    "try:\n",
    "    sp500_adj_close_df = pd.read_csv(r'E:\\study\\22fall\\hf\\data\\hw1\\SP500.csv',index_col=0)\n",
    "except:\n",
    "    data = yf.download(tickers='SPY',start = '2021-08-09',end = '2022-09-11')\n",
    "    sp500_adj_close_df = data.iloc[:,-2]\n",
    "    sp500_adj_close_df.to_csv(r'E:\\study\\22fall\\hf\\data\\hw1\\SP500.csv')\n",
    "end_loc_int = np.where(sp500_adj_close_df.index==end_dt_str)[0][0]\n",
    "beg_loc_int = end_loc_int-bkt_period_int\n",
    "sp500_adj_ror_df = sp500_adj_close_df/sp500_adj_close_df.shift(1)-1\n",
    "sp500_adj_ror_df.dropna(axis=0,inplace=True)\n",
    "sp500_adj_ror_bkt_df = sp500_adj_ror_df.iloc[beg_loc_int + 1:end_loc_int + 1, :]\n",
    "sp500_accu_ror_array = np.multiply.accumulate(sp500_adj_ror_bkt_df+1,axis=0).values\n",
    "bmk_ret_array = cash_init_float * sp500_accu_ror_array\n",
    "bmk_ret_array = np.concatenate((np.array(cash_init_float).reshape(1, 1), bmk_ret_array.reshape(-1, 1)))\n",
    "bmk_d_ret_array = np.diff(bmk_ret_array, 1, axis=0)\n",
    "partial_sum_bmk_ret_array = np.add.accumulate(bmk_d_ret_array, 0)\n",
    "\n",
    "# gen dataset\n",
    "d_ret_array = np.concatenate((portfolio_d_ret_cmb_array, bmk_d_ret_array), axis=1)"
   ],
   "metadata": {
    "collapsed": false,
    "pycharm": {
     "name": "#%%\n"
    }
   }
  },
  {
   "cell_type": "code",
   "execution_count": 7,
   "outputs": [],
   "source": [
    "# metric ouput\n",
    "portfolio_ror_array = np.matmul(weights_array.reshape(1, -1), ror_array.T)\n",
    "portfolio_sharp_float = sharp(portfolio_ror_array)\n",
    "sp500_adj_ror_bkt_array = sp500_adj_ror_bkt_df.values.reshape(1, -1)\n",
    "bmk_sharp_float = sharp(sp500_adj_ror_bkt_array)\n",
    "corrs_float = np.corrcoef(d_ret_array.T)"
   ],
   "metadata": {
    "collapsed": false,
    "pycharm": {
     "name": "#%%\n"
    }
   }
  },
  {
   "cell_type": "code",
   "execution_count": 8,
   "outputs": [],
   "source": [
    "#cal beta\n",
    "X_array = sm.add_constant((sp500_adj_ror_bkt_array-ror_10_treasure_float).reshape(-1,1))\n",
    "y_array = (portfolio_ror_array-ror_10_treasure_float).reshape(-1,1)\n",
    "model = sm.OLS(y_array,X_array)\n",
    "result = model.fit()\n",
    "beta_float = result.params[1]"
   ],
   "metadata": {
    "collapsed": false,
    "pycharm": {
     "name": "#%%\n"
    }
   }
  },
  {
   "cell_type": "code",
   "execution_count": 9,
   "outputs": [
    {
     "name": "stdout",
     "output_type": "stream",
     "text": [
      "corr: 0.10146023616008365\n",
      "sharp:\n",
      "\tportfolio: 1.1328885994761588,\n",
      "\tbenchmark(SP500): -0.5411262330954048\n",
      "beta: 0.19836717197057901\n"
     ]
    }
   ],
   "source": [
    "print(f'corr: {corrs_float[0][1]}')\n",
    "print(f'sharp:\\n\\tportfolio: {portfolio_sharp_float},\\n\\tbenchmark(SP500): {bmk_sharp_float}')\n",
    "print(f'beta: {beta_float}')"
   ],
   "metadata": {
    "collapsed": false,
    "pycharm": {
     "name": "#%%\n"
    }
   }
  },
  {
   "cell_type": "code",
   "execution_count": 10,
   "outputs": [
    {
     "data": {
      "text/plain": "<Figure size 432x288 with 1 Axes>",
      "image/png": "[encoded data removed]"
     },
     "metadata": {
      "needs_background": "light"
     },
     "output_type": "display_data"
    }
   ],
   "source": [
    "#plotting\n",
    "plt.plot(np.sum(partial_sum_portfolio_ret_array,axis=1),label='portfolio')\n",
    "plt.plot(partial_sum_bmk_ret_array,label='benchmark : SP500')\n",
    "plt.legend()\n",
    "plt.show()"
   ],
   "metadata": {
    "collapsed": false,
    "pycharm": {
     "name": "#%%\n"
    }
   }
  },
  {
   "cell_type": "markdown",
   "source": [
    "Though momentum is relative effective right now, its effectiveness may quickly fade away since it is a well explored factor\n",
    " with a long history. Despite its effectiveness, not all stocks selected are satisfying and the portfolio may cause great drawdown\n",
    " under certain circumstance."
   ],
   "metadata": {
    "collapsed": false,
    "pycharm": {
     "name": "#%% md\n"
    }
   }
  },
  {
   "cell_type": "markdown",
   "source": [
    " Possible improvments:\n",
    "\n",
    "1.If we can use market netural strategy, which is to short stocks with small momentum and long those with big\n",
    " momentum, then we may get a theoretically smooth pnl cureve.\n",
    "\n",
    "2.If time allows, I can develop more factors and use them together to score each stock.Therefore, we may get a portfolio\n",
    " with better performance.\n",
    "\n",
    "3.We can refine momentum factor by getting normalized factor with industry dummy variables and market cap .\n",
    "\n",
    "4.Considering stocks volatility and covariance matrix with each other, we may employ mean variance function as objective\n",
    " function and some optimization algorithm to decide weights for each stock in the portfolio."
   ],
   "metadata": {
    "collapsed": false,
    "pycharm": {
     "name": "#%% md\n"
    }
   }
  }
 ],
 "metadata": {
  "kernelspec": {
   "name": "conda-env-cicc_code-py",
   "language": "python",
   "display_name": "Python [conda env:cicc_code] *"
  },
  "language_info": {
   "codemirror_mode": {
    "name": "ipython",
    "version": 2
   },
   "file_extension": ".py",
   "mimetype": "text/x-python",
   "name": "python",
   "nbconvert_exporter": "python",
   "pygments_lexer": "ipython2",
   "version": "2.7.6"
  }
 },
 "nbformat": 4,
 "nbformat_minor": 0
}
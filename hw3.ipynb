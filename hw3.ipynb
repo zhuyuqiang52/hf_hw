{
 "cells": [
  {
   "cell_type": "code",
   "execution_count": 12,
   "metadata": {
    "collapsed": true
   },
   "outputs": [],
   "source": [
    "import pandas as pd\n",
    "import numpy as np\n",
    "import matplotlib.pyplot as plt"
   ]
  },
  {
   "cell_type": "markdown",
   "source": [
    "# class, func definition"
   ],
   "metadata": {
    "collapsed": false,
    "pycharm": {
     "name": "#%% md\n"
    }
   }
  },
  {
   "cell_type": "code",
   "execution_count": 13,
   "outputs": [],
   "source": [
    "def momentum_factor(ror_df,window_int,centered_func=None):\n",
    "    #centered func can be any numpy func\n",
    "    ror_df = np.log(ror_df+1)\n",
    "    momentum_factor_df = np.exp(ror_df.rolling(window_int,axis=0).sum())-1\n",
    "    momentum_factor_df.dropna(axis=0,inplace=True)\n",
    "    if centered_func is not None:\n",
    "        subtract_val_df = momentum_factor_df.apply(axis=1,func=centered_func,result_type='broadcast')\n",
    "        momentum_factor_centered_df = momentum_factor_df - subtract_val_df\n",
    "        return momentum_factor_centered_df\n",
    "    return momentum_factor_df\n",
    "\n",
    "#teade account class, including execution func\n",
    "class position:\n",
    "    def __init__(self,gross_exposure_float,fix_notion_bool:bool=True):\n",
    "        self.fix_notion_bool = fix_notion_bool\n",
    "        self.init_exposure_float = gross_exposure_float\n",
    "        self.gross_exposure_float = gross_exposure_float\n",
    "        self.cash_float = 0\n",
    "        self.asset_val_float = gross_exposure_float\n",
    "        self.position = pd.DataFrame()\n",
    "        self.proceed_from_short_sale = 0\n",
    "        self.last_val_array = 0\n",
    "        self.asset_list = [gross_exposure_float]\n",
    "        self.ret_left = 0\n",
    "        self.ret_left_list = [0]\n",
    "    def asset_val(self,price_array,fix_notion_bool:bool):\n",
    "        cur_val_array = self.position.iloc[-1,:].values*price_array\n",
    "        val_chg_float = (cur_val_array-self.last_val_array).sum()\n",
    "\n",
    "        #capital gain tax\n",
    "        if val_chg_float > 41675 and val_chg_float<459750:\n",
    "            val_chg_float = (1-0.15)*val_chg_float\n",
    "        elif val_chg_float>459750:\n",
    "            val_chg_float = (1-0.2)*val_chg_float\n",
    "\n",
    "        self.gross_exposure_float += val_chg_float\n",
    "        self.asset_val_float = self.cash_float+self.gross_exposure_float+self.ret_left\n",
    "        if fix_notion_bool==False:\n",
    "            left_float = self.asset_val_float-self.init_exposure_float-self.ret_left\n",
    "            self.ret_left += left_float\n",
    "            self.gross_exposure_float-=left_float\n",
    "            self.ret_left_list.append(self.ret_left)\n",
    "    def order_execute(self,weights_df,price_df,\n",
    "                      slippage_rate_float=0.0008,\n",
    "                      brokerage_fee_rate_float = 0.01,\n",
    "                      stock_loan_fee_rate_float = 0.01,\n",
    "                      proceed_interest_rate_float=0.03):\n",
    "        price_df = price_df.reindex(weights_df.columns,axis=1)\n",
    "        execute_price_array = price_df.values*(1+np.random.normal(slippage_rate_float,0.0001,size=price_df.shape[1]))\n",
    "        execute_price_array = np.nan_to_num(execute_price_array,nan=0.0)# suppose slippage follow a normal distribution\n",
    "        abs_weight_df = np.abs(weights_df)\n",
    "        abs_weight_df = abs_weight_df/np.sum(abs_weight_df.values) # weights constructed considering gross_exposure\n",
    "        #update asset val\n",
    "        if self.position.shape[0]>=1:\n",
    "            self.asset_val(execute_price_array,self.fix_notion_bool)\n",
    "        # switch between fix notion and actual asset\n",
    "        if self.fix_notion_bool:\n",
    "            exposure_weighted_df = self.init_exposure_float*(1-2*brokerage_fee_rate_float)*abs_weight_df*np.sign(weights_df.values)\n",
    "        else:\n",
    "            exposure_weighted_df = self.asset_val_float*(1-2*brokerage_fee_rate_float)*abs_weight_df*np.sign(weights_df.values)\n",
    "        exposure_weighted_df = exposure_weighted_df.fillna(0)   # multiply original sign to distinguish long/short exposure\n",
    "        shares_df = np.floor_divide(exposure_weighted_df,execute_price_array*(1+(brokerage_fee_rate_float+stock_loan_fee_rate_float)/2))\n",
    "        shares_df.fillna(0,inplace=True)\n",
    "        shares_array = shares_df.values\n",
    "        #update cash and gross exposure\n",
    "        tmp_gross_exposure_float = np.sum(np.abs(shares_array*execute_price_array))\n",
    "        self.cash_float = self.asset_val_float-tmp_gross_exposure_float-self.ret_left\n",
    "        self.gross_exposure_float = tmp_gross_exposure_float\n",
    "        #update postion\n",
    "        self.position = pd.concat([self.position,shares_df])\n",
    "        #update cash\n",
    "        if self.position.shape[0]>1: # if have altered position, then there exists a t least 2 position log\n",
    "            val_chg_array = (self.position.iloc[-1,:]-self.position.iloc[-2,:]).values*execute_price_array\n",
    "            #exposure_chg_float = val_chg_array.sum()\n",
    "            brokerage_fee_float = np.abs(val_chg_array).sum()*brokerage_fee_rate_float # brokerage fee for all transactions\n",
    "            #stock_loan_fee cal\n",
    "            day_gap_int = (self.position.index[-1]-self.position.index[-2]).days\n",
    "            stock_loan_fee_float = self.proceed_from_short_sale*(np.power(1+stock_loan_fee_rate_float-proceed_interest_rate_float,day_gap_int/252)-1) # stock loan fee - proceed interest\n",
    "            #update short sale proceed\n",
    "            val_array = shares_array*execute_price_array\n",
    "            self.proceed_from_short_sale = -val_array[val_array<0].sum()\n",
    "            #subtract cost\n",
    "            self.cash_float -= stock_loan_fee_float+brokerage_fee_float\n",
    "        else:\n",
    "            val_array = shares_array*execute_price_array\n",
    "            brokerage_fee_float = np.abs(val_array).sum() * brokerage_fee_rate_float\n",
    "            self.proceed_from_short_sale = -val_array[val_array < 0].sum()\n",
    "            # subtract cost\n",
    "            self.cash_float -= brokerage_fee_float\n",
    "        self.asset_val_float = self.gross_exposure_float+self.cash_float+self.ret_left\n",
    "        self.asset_list.append(self.asset_val_float)\n",
    "\n",
    "    #ret plotting\n",
    "    def accu_ret_plot(self):\n",
    "        asset_val_array = np.array(self.asset_list)-self.init_exposure_float\n",
    "        plt.plot(asset_val_array,label='dollar return')\n",
    "        plt.legend()\n",
    "        plt.show()\n",
    "\n",
    "def signal_weight(factor_df,long_nums = None,short_nums = None):\n",
    "    if long_nums is None or short_nums is None:\n",
    "        factor_postive_sum_df = factor_df.where(factor_df >= 0).sum(axis=1)\n",
    "        factor_negative_sum_df = factor_df.where(factor_df < 0).sum(axis=1)\n",
    "        factor_weight_neg_df = factor_df.where(factor_df >= 0).div(factor_postive_sum_df, axis=0).fillna(0)\n",
    "        factor_weight_pos_df = factor_df.where(factor_df < 0).div(-factor_negative_sum_df, axis=0).fillna(0)\n",
    "        factor_weight_df = factor_weight_pos_df + factor_weight_neg_df\n",
    "        return factor_weight_df\n",
    "    else:\n",
    "        if long_nums+short_nums>factor_df.shape[1]:\n",
    "            try:\n",
    "                raise Exception('stocks nums sum larger than the universe of stocks.')\n",
    "            except Exception as e:\n",
    "                print(e)\n",
    "    # quantile value\n",
    "    arg_sort_df = np.argsort(factor_df,axis=1)\n",
    "    K_small_loc_df = arg_sort_df.iloc[:,long_nums]\n",
    "    K_large_loc_df = arg_sort_df.iloc[:,-short_nums]\n",
    "    row_list = list(range(factor_df.shape[0]))\n",
    "    boundary_df = pd.DataFrame([factor_df.iloc[i,[K_large_loc_df[i],K_small_loc_df[i]]].values for i in row_list])\n",
    "\n",
    "    #only weight long nums and short nums assets\n",
    "    factor1_df = factor_df.sub(boundary_df.iloc[:,0].values,axis=0)\n",
    "    factor1_df = factor1_df.where(factor1_df>0).add(boundary_df.iloc[:,0].values,axis=0).fillna(0)\n",
    "    factor2_df = factor_df.sub(boundary_df.iloc[:,1].values,axis=0)\n",
    "    factor2_df = factor2_df.where(factor2_df<0).add(boundary_df.iloc[:,1].values,axis=0).fillna(0)\n",
    "    factor_df = factor1_df+factor2_df\n",
    "\n",
    "    factor_postive_sum_df = factor_df.where(factor_df>0).sum(axis=1)\n",
    "    factor_negative_sum_df = factor_df.where(factor_df < 0).sum(axis=1)\n",
    "    factor_weight_neg_df = factor_df.where(factor_df >= 0).div(factor_postive_sum_df,axis=0).fillna(0)\n",
    "    factor_weight_pos_df = factor_df.where(factor_df < 0).div(-factor_negative_sum_df, axis=0).fillna(0)\n",
    "    factor_weight_df = factor_weight_pos_df+factor_weight_neg_df\n",
    "    return factor_weight_df\n",
    "\n",
    "def signal_sizing(factor_df,method_str = 'linear',long_nums = None,short_nums = None):\n",
    "    if method_str == 'linear':\n",
    "        factor_weight_df = signal_weight(factor_df,long_nums,short_nums)\n",
    "    return factor_weight_df"
   ],
   "metadata": {
    "collapsed": false,
    "pycharm": {
     "name": "#%%\n"
    }
   }
  },
  {
   "cell_type": "markdown",
   "source": [
    "# (A) get data\n",
    "Download SP500 constituents' data from bloomberg"
   ],
   "metadata": {
    "collapsed": false
   }
  },
  {
   "cell_type": "code",
   "execution_count": 14,
   "outputs": [],
   "source": [
    "#read data\n",
    "dat_df = pd.read_csv(r'E:\\study\\22fall\\hf\\data\\hw3\\hw3_dat.csv',index_col=0)\n",
    "dat_df.index = pd.to_datetime(dat_df.index)\n",
    "dat_df = dat_df.astype(float)"
   ],
   "metadata": {
    "collapsed": false,
    "pycharm": {
     "name": "#%%\n"
    }
   }
  },
  {
   "cell_type": "markdown",
   "source": [
    "# (B) signal generation"
   ],
   "metadata": {
    "collapsed": false
   }
  },
  {
   "cell_type": "code",
   "execution_count": 15,
   "outputs": [],
   "source": [
    "ror_df = dat_df/dat_df.shift(1)-1\n",
    "ror_df.dropna(axis=0,inplace=True,how = 'all')\n",
    "ror_df.fillna(0,inplace=True)\n",
    "#centered with respect to median\n",
    "mom_centered_df = momentum_factor(ror_df,5,centered_func=np.median) #5 days(weekly) accumulate ror"
   ],
   "metadata": {
    "collapsed": false,
    "pycharm": {
     "name": "#%%\n"
    }
   }
  },
  {
   "cell_type": "markdown",
   "source": [
    "# (C) portfolio construction"
   ],
   "metadata": {
    "collapsed": false
   }
  },
  {
   "cell_type": "code",
   "source": [
    "#parameters\n",
    "long_int = 100\n",
    "short_int = 100\n",
    "\n",
    "brokerage_fee_rate_float = 0.001\n",
    "stk_loan_fee_rate_float= 0.01\n",
    "pcd_interest_rate_float=0.03\n",
    "alter_turn_int = 4\n",
    "\n",
    "portfolio_weight_df = signal_sizing(mom_centered_df,'linear',long_nums=long_int,short_nums=short_int)"
   ],
   "metadata": {
    "collapsed": false,
    "pycharm": {
     "name": "#%%\n"
    }
   },
   "execution_count": 16,
   "outputs": []
  },
  {
   "cell_type": "markdown",
   "source": [
    "Although the portfolio alters on a weekly basis, making its net exposure close to 0, we can perform other sizing method\n",
    "for other purpose.We can add a constraint over the sizing to make the final portfolio's net beta exposure close to zero to\n",
    " mitigate market risk or use covariance weighting following mean_variance_optimization to reduce the portfolio's risk."
   ],
   "metadata": {
    "collapsed": false
   }
  },
  {
   "cell_type": "code",
   "execution_count": 17,
   "outputs": [],
   "source": [
    "# initialize position account\n",
    "pos = position(2e6,fix_notion_bool=True) # fix notation which can be switched to False to use all exposure to invest."
   ],
   "metadata": {
    "collapsed": false,
    "pycharm": {
     "name": "#%%\n"
    }
   }
  },
  {
   "cell_type": "markdown",
   "source": [
    "# (D) Trade Execution"
   ],
   "metadata": {
    "collapsed": false
   }
  },
  {
   "cell_type": "markdown",
   "source": [
    "From last day Sep 26, roll backward every 5 days to execute trade weekly"
   ],
   "metadata": {
    "collapsed": false,
    "pycharm": {
     "name": "#%% md\n"
    }
   }
  },
  {
   "cell_type": "code",
   "execution_count": 18,
   "outputs": [],
   "source": [
    "for i in range(1,alter_turn_int+1):\n",
    "    pos.order_execute(weights_df=portfolio_weight_df.iloc[[-(alter_turn_int-i)*5-1],:],price_df=dat_df.iloc[[-(alter_turn_int-i)*5-1],:],\n",
    "                  brokerage_fee_rate_float=brokerage_fee_rate_float,stock_loan_fee_rate_float = stk_loan_fee_rate_float,\n",
    "                  proceed_interest_rate_float = pcd_interest_rate_float)\n"
   ],
   "metadata": {
    "collapsed": false,
    "pycharm": {
     "name": "#%%\n"
    }
   }
  },
  {
   "cell_type": "markdown",
   "source": [
    "Having considered brokerage fee,stk_loan_fee, short sale proceed interest, slippage in trading execution\n",
    "(inside member function order_execute) and capital gain tax."
   ],
   "metadata": {
    "collapsed": false,
    "pycharm": {
     "name": "#%% md\n"
    }
   }
  },
  {
   "cell_type": "markdown",
   "source": [
    "# (E) Backtest"
   ],
   "metadata": {
    "collapsed": false,
    "pycharm": {
     "name": "#%% md\n"
    }
   }
  },
  {
   "cell_type": "markdown",
   "source": [
    "momentum signal backtest plotting"
   ],
   "metadata": {
    "collapsed": false,
    "pycharm": {
     "name": "#%% md\n"
    }
   }
  },
  {
   "cell_type": "code",
   "execution_count": 19,
   "outputs": [
    {
     "data": {
      "text/plain": "<Figure size 432x288 with 1 Axes>",
      "image/png": "[encoded data removed]"
     },
     "metadata": {
      "needs_background": "light"
     },
     "output_type": "display_data"
    }
   ],
   "source": [
    "pos.accu_ret_plot()"
   ],
   "metadata": {
    "collapsed": false,
    "pycharm": {
     "name": "#%%\n"
    }
   }
  },
  {
   "cell_type": "markdown",
   "source": [
    "Backtest reports negative return during last 4 week, which shows that momentum factor recently is not very effective."
   ],
   "metadata": {
    "collapsed": false,
    "pycharm": {
     "name": "#%% md\n"
    }
   }
  },
  {
   "cell_type": "markdown",
   "source": [
    "Trying to alter some parameters"
   ],
   "metadata": {
    "collapsed": false,
    "pycharm": {
     "name": "#%% md\n"
    }
   }
  },
  {
   "cell_type": "markdown",
   "source": [
    "(1) Below is -momentum signal's backtest"
   ],
   "metadata": {
    "collapsed": false,
    "pycharm": {
     "name": "#%% md\n"
    }
   }
  },
  {
   "cell_type": "code",
   "execution_count": 20,
   "outputs": [],
   "source": [
    "portfolio_weight_df = signal_sizing(-mom_centered_df,'linear',long_nums=long_int,short_nums=short_int)\n",
    "pos2 = position(2e6,fix_notion_bool=True)\n",
    "\n",
    "for i in range(1,alter_turn_int+1):\n",
    "    pos2.order_execute(weights_df=portfolio_weight_df.iloc[[-(alter_turn_int-i)*5-1],:],price_df=dat_df.iloc[[-(alter_turn_int-i)*5-1],:],\n",
    "                  brokerage_fee_rate_float=brokerage_fee_rate_float,stock_loan_fee_rate_float = stk_loan_fee_rate_float,\n",
    "                  proceed_interest_rate_float = pcd_interest_rate_float)"
   ],
   "metadata": {
    "collapsed": false,
    "pycharm": {
     "name": "#%%\n"
    }
   }
  },
  {
   "cell_type": "markdown",
   "source": [
    "negative momentum signal backtest plotting"
   ],
   "metadata": {
    "collapsed": false
   }
  },
  {
   "cell_type": "code",
   "execution_count": 21,
   "outputs": [
    {
     "data": {
      "text/plain": "<Figure size 432x288 with 1 Axes>",
      "image/png": "[encoded data removed]"
     },
     "metadata": {
      "needs_background": "light"
     },
     "output_type": "display_data"
    }
   ],
   "source": [
    "pos2.accu_ret_plot()"
   ],
   "metadata": {
    "collapsed": false,
    "pycharm": {
     "name": "#%%\n"
    }
   }
  },
  {
   "cell_type": "markdown",
   "source": [
    "negative momentum signal is also not very effective."
   ],
   "metadata": {
    "collapsed": false,
    "pycharm": {
     "name": "#%% md\n"
    }
   }
  },
  {
   "cell_type": "markdown",
   "source": [
    "(2) reduce constituents"
   ],
   "metadata": {
    "collapsed": false,
    "pycharm": {
     "name": "#%% md\n"
    }
   }
  },
  {
   "cell_type": "code",
   "execution_count": 22,
   "outputs": [
    {
     "data": {
      "text/plain": "<Figure size 432x288 with 1 Axes>",
      "image/png": "[encoded data removed]"
     },
     "metadata": {
      "needs_background": "light"
     },
     "output_type": "display_data"
    }
   ],
   "source": [
    "long_int = 2\n",
    "short_int = 2\n",
    "\n",
    "portfolio_weight_df = signal_sizing(mom_centered_df,'linear',long_nums=long_int,short_nums=short_int)\n",
    "pos3 = position(2e6,fix_notion_bool=True)\n",
    "\n",
    "for i in range(1,alter_turn_int+1):\n",
    "    pos3.order_execute(weights_df=portfolio_weight_df.iloc[[-(alter_turn_int-i)*5-1],:],price_df=dat_df.iloc[[-(alter_turn_int-i)*5-1],:],\n",
    "                  brokerage_fee_rate_float=brokerage_fee_rate_float,stock_loan_fee_rate_float = stk_loan_fee_rate_float,\n",
    "                  proceed_interest_rate_float = pcd_interest_rate_float)\n",
    "pos3.accu_ret_plot()"
   ],
   "metadata": {
    "collapsed": false,
    "pycharm": {
     "name": "#%%\n"
    }
   }
  },
  {
   "cell_type": "markdown",
   "source": [
    "It reports postive return, which shows that momentum maybe only effective in stks with extreme momentum signal."
   ],
   "metadata": {
    "collapsed": false,
    "pycharm": {
     "name": "#%% md\n"
    }
   }
  }
 ],
 "metadata": {
  "kernelspec": {
   "name": "conda-root-py",
   "language": "python",
   "display_name": "Python [conda env:root]"
  },
  "language_info": {
   "codemirror_mode": {
    "name": "ipython",
    "version": 2
   },
   "file_extension": ".py",
   "mimetype": "text/x-python",
   "name": "python",
   "nbconvert_exporter": "python",
   "pygments_lexer": "ipython2",
   "version": "2.7.6"
  }
 },
 "nbformat": 4,
 "nbformat_minor": 0
}